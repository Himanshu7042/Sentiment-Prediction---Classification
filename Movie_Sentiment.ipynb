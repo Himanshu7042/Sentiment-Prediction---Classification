{
 "cells": [
  {
   "cell_type": "code",
   "execution_count": 1,
   "id": "dfcf73d0",
   "metadata": {
    "_cell_guid": "b1076dfc-b9ad-4769-8c92-a6c4dae69d19",
    "_uuid": "8f2839f25d086af736a60e9eeb907d3b93b6e0e5",
    "execution": {
     "iopub.execute_input": "2023-09-21T13:22:59.159533Z",
     "iopub.status.busy": "2023-09-21T13:22:59.158972Z",
     "iopub.status.idle": "2023-09-21T13:23:00.141618Z",
     "shell.execute_reply": "2023-09-21T13:23:00.139871Z"
    },
    "papermill": {
     "duration": 1.003933,
     "end_time": "2023-09-21T13:23:00.144637",
     "exception": false,
     "start_time": "2023-09-21T13:22:59.140704",
     "status": "completed"
    },
    "tags": []
   },
   "outputs": [
    {
     "name": "stdout",
     "output_type": "stream",
     "text": [
      "/kaggle/input/sentiment-prediction-on-movie-reviews-term-break1/sample (1).csv\n",
      "/kaggle/input/sentiment-prediction-on-movie-reviews-term-break1/test.csv (1)/test.csv\n",
      "/kaggle/input/sentiment-prediction-on-movie-reviews-term-break1/movies.csv (1)/movies.csv\n",
      "/kaggle/input/sentiment-prediction-on-movie-reviews-term-break1/train.csv (1)/train.csv\n"
     ]
    }
   ],
   "source": [
    "# This Python 3 environment comes with many helpful analytics libraries installed\n",
    "# It is defined by the kaggle/python Docker image: https://github.com/kaggle/docker-python\n",
    "# For example, here's several helpful packages to load\n",
    "\n",
    "import numpy as np # linear algebra\n",
    "import pandas as pd # data processing, CSV file I/O (e.g. pd.read_csv)\n",
    "\n",
    "# Input data files are available in the read-only \"../input/\" directory\n",
    "# For example, running this (by clicking run or pressing Shift+Enter) will list all files under the input directory\n",
    "\n",
    "import os\n",
    "for dirname, _, filenames in os.walk('/kaggle/input'):\n",
    "    for filename in filenames:\n",
    "        print(os.path.join(dirname, filename))\n",
    "\n",
    "# You can write up to 20GB to the current directory (/kaggle/working/) that gets preserved as output when you create a version using \"Save & Run All\" \n",
    "# You can also write temporary files to /kaggle/temp/, but they won't be saved outside of the current session"
   ]
  },
  {
   "cell_type": "code",
   "execution_count": 2,
   "id": "f8355dc8",
   "metadata": {
    "execution": {
     "iopub.execute_input": "2023-09-21T13:23:00.178375Z",
     "iopub.status.busy": "2023-09-21T13:23:00.177733Z",
     "iopub.status.idle": "2023-09-21T13:23:01.512691Z",
     "shell.execute_reply": "2023-09-21T13:23:01.511365Z"
    },
    "papermill": {
     "duration": 1.35509,
     "end_time": "2023-09-21T13:23:01.515916",
     "exception": false,
     "start_time": "2023-09-21T13:23:00.160826",
     "status": "completed"
    },
    "tags": []
   },
   "outputs": [],
   "source": [
    "training_data = pd.read_csv('/kaggle/input/sentiment-prediction-on-movie-reviews-term-break1/train.csv (1)/train.csv')"
   ]
  },
  {
   "cell_type": "markdown",
   "id": "a88b4ba8",
   "metadata": {
    "papermill": {
     "duration": 0.014866,
     "end_time": "2023-09-21T13:23:01.545773",
     "exception": false,
     "start_time": "2023-09-21T13:23:01.530907",
     "status": "completed"
    },
    "tags": []
   },
   "source": [
    "# **Exploratory data analysis (EDA)**"
   ]
  },
  {
   "cell_type": "code",
   "execution_count": 3,
   "id": "f2d0ecb0",
   "metadata": {
    "execution": {
     "iopub.execute_input": "2023-09-21T13:23:01.578327Z",
     "iopub.status.busy": "2023-09-21T13:23:01.577022Z",
     "iopub.status.idle": "2023-09-21T13:23:01.690804Z",
     "shell.execute_reply": "2023-09-21T13:23:01.689436Z"
    },
    "papermill": {
     "duration": 0.132915,
     "end_time": "2023-09-21T13:23:01.693513",
     "exception": false,
     "start_time": "2023-09-21T13:23:01.560598",
     "status": "completed"
    },
    "tags": []
   },
   "outputs": [
    {
     "name": "stdout",
     "output_type": "stream",
     "text": [
      "<class 'pandas.core.frame.DataFrame'>\n",
      "RangeIndex: 162758 entries, 0 to 162757\n",
      "Data columns (total 5 columns):\n",
      " #   Column              Non-Null Count   Dtype \n",
      "---  ------              --------------   ----- \n",
      " 0   movieid             162758 non-null  object\n",
      " 1   reviewerName        162758 non-null  object\n",
      " 2   isFrequentReviewer  162758 non-null  bool  \n",
      " 3   reviewText          156311 non-null  object\n",
      " 4   sentiment           162758 non-null  object\n",
      "dtypes: bool(1), object(4)\n",
      "memory usage: 5.1+ MB\n",
      "None\n"
     ]
    }
   ],
   "source": [
    "print(training_data.info())"
   ]
  },
  {
   "cell_type": "code",
   "execution_count": 4,
   "id": "19974b26",
   "metadata": {
    "execution": {
     "iopub.execute_input": "2023-09-21T13:23:01.725484Z",
     "iopub.status.busy": "2023-09-21T13:23:01.725065Z",
     "iopub.status.idle": "2023-09-21T13:23:02.129521Z",
     "shell.execute_reply": "2023-09-21T13:23:02.128301Z"
    },
    "papermill": {
     "duration": 0.42445,
     "end_time": "2023-09-21T13:23:02.132985",
     "exception": false,
     "start_time": "2023-09-21T13:23:01.708535",
     "status": "completed"
    },
    "tags": []
   },
   "outputs": [
    {
     "name": "stdout",
     "output_type": "stream",
     "text": [
      "                                            movieid     reviewerName  \\\n",
      "count                                        162758           162758   \n",
      "unique                                        16812             4482   \n",
      "top     escape_the_terminator_tyler_durden_astonish  Sherri Morrison   \n",
      "freq                                            708              962   \n",
      "\n",
      "       isFrequentReviewer               reviewText sentiment  \n",
      "count              162758                   156311    162758  \n",
      "unique                  2                   155071         2  \n",
      "top                 False  Parental Content Review  POSITIVE  \n",
      "freq               113189                       29    108761  \n"
     ]
    }
   ],
   "source": [
    "print(training_data.describe())"
   ]
  },
  {
   "cell_type": "code",
   "execution_count": 5,
   "id": "f4b8e9ed",
   "metadata": {
    "execution": {
     "iopub.execute_input": "2023-09-21T13:23:02.167581Z",
     "iopub.status.busy": "2023-09-21T13:23:02.166114Z",
     "iopub.status.idle": "2023-09-21T13:23:04.540643Z",
     "shell.execute_reply": "2023-09-21T13:23:04.539098Z"
    },
    "papermill": {
     "duration": 2.395236,
     "end_time": "2023-09-21T13:23:04.544535",
     "exception": false,
     "start_time": "2023-09-21T13:23:02.149299",
     "status": "completed"
    },
    "tags": []
   },
   "outputs": [
    {
     "data": {
      "image/png": "[encoded data removed]",
      "text/plain": [
       "<Figure size 640x480 with 1 Axes>"
      ]
     },
     "metadata": {},
     "output_type": "display_data"
    }
   ],
   "source": [
    "# Exploring the distribution of the sentiment classes\n",
    "\n",
    "import seaborn as sns\n",
    "import matplotlib.pyplot as plt\n",
    "sns.countplot(x='sentiment', data=training_data)\n",
    "plt.title('Distribution of the Sentiment Classes')\n",
    "plt.show()"
   ]
  },
  {
   "cell_type": "code",
   "execution_count": 6,
   "id": "d8a3d3cb",
   "metadata": {
    "execution": {
     "iopub.execute_input": "2023-09-21T13:23:04.578855Z",
     "iopub.status.busy": "2023-09-21T13:23:04.578409Z",
     "iopub.status.idle": "2023-09-21T13:23:04.849867Z",
     "shell.execute_reply": "2023-09-21T13:23:04.848653Z"
    },
    "papermill": {
     "duration": 0.291991,
     "end_time": "2023-09-21T13:23:04.852654",
     "exception": false,
     "start_time": "2023-09-21T13:23:04.560663",
     "status": "completed"
    },
    "tags": []
   },
   "outputs": [
    {
     "data": {
      "image/png": "[encoded data removed]",
      "text/plain": [
       "<Figure size 640x480 with 1 Axes>"
      ]
     },
     "metadata": {},
     "output_type": "display_data"
    }
   ],
   "source": [
    "# Exploring the distribution of the frequent reviewers\n",
    "\n",
    "sns.countplot(x='isFrequentReviewer', data=training_data)\n",
    "plt.title('Distribution of Frequent Reviewers')\n",
    "plt.show()"
   ]
  },
  {
   "cell_type": "code",
   "execution_count": 7,
   "id": "e8b65e26",
   "metadata": {
    "execution": {
     "iopub.execute_input": "2023-09-21T13:23:04.888351Z",
     "iopub.status.busy": "2023-09-21T13:23:04.887277Z",
     "iopub.status.idle": "2023-09-21T13:23:04.897867Z",
     "shell.execute_reply": "2023-09-21T13:23:04.896497Z"
    },
    "papermill": {
     "duration": 0.031648,
     "end_time": "2023-09-21T13:23:04.901024",
     "exception": false,
     "start_time": "2023-09-21T13:23:04.869376",
     "status": "completed"
    },
    "tags": []
   },
   "outputs": [
    {
     "name": "stdout",
     "output_type": "stream",
     "text": [
      "(162758, 5)\n",
      "            movieid    reviewerName  isFrequentReviewer  \\\n",
      "0  marvelous_pirate  Benjamin Henry               False   \n",
      "\n",
      "                                          reviewText sentiment  \n",
      "0  Henry Selick’s first movie since 2009’s Corali...  POSITIVE  \n"
     ]
    }
   ],
   "source": [
    "print(training_data.shape)\n",
    "print(training_data.head(1))"
   ]
  },
  {
   "cell_type": "code",
   "execution_count": 8,
   "id": "0bb17fe2",
   "metadata": {
    "execution": {
     "iopub.execute_input": "2023-09-21T13:23:04.936908Z",
     "iopub.status.busy": "2023-09-21T13:23:04.936419Z",
     "iopub.status.idle": "2023-09-21T13:23:04.950553Z",
     "shell.execute_reply": "2023-09-21T13:23:04.948989Z"
    },
    "papermill": {
     "duration": 0.035205,
     "end_time": "2023-09-21T13:23:04.953496",
     "exception": false,
     "start_time": "2023-09-21T13:23:04.918291",
     "status": "completed"
    },
    "tags": []
   },
   "outputs": [
    {
     "name": "stdout",
     "output_type": "stream",
     "text": [
      "                    isFrequentReviewer\n",
      "isFrequentReviewer                 1.0\n"
     ]
    }
   ],
   "source": [
    "# Pairwise correlations\n",
    "correlation_matrix = training_data.corr(numeric_only=True)\n",
    "print(correlation_matrix)"
   ]
  },
  {
   "cell_type": "code",
   "execution_count": 9,
   "id": "1736236f",
   "metadata": {
    "execution": {
     "iopub.execute_input": "2023-09-21T13:23:04.989748Z",
     "iopub.status.busy": "2023-09-21T13:23:04.989239Z",
     "iopub.status.idle": "2023-09-21T13:23:05.070430Z",
     "shell.execute_reply": "2023-09-21T13:23:05.068752Z"
    },
    "papermill": {
     "duration": 0.102566,
     "end_time": "2023-09-21T13:23:05.073256",
     "exception": false,
     "start_time": "2023-09-21T13:23:04.970690",
     "status": "completed"
    },
    "tags": []
   },
   "outputs": [
    {
     "name": "stdout",
     "output_type": "stream",
     "text": [
      "movieid                  0\n",
      "reviewerName             0\n",
      "isFrequentReviewer       0\n",
      "reviewText            6447\n",
      "sentiment                0\n",
      "dtype: int64\n"
     ]
    }
   ],
   "source": [
    "no_missing_values = training_data.isnull().sum()\n",
    "print(no_missing_values)"
   ]
  },
  {
   "cell_type": "markdown",
   "id": "4b39b899",
   "metadata": {
    "papermill": {
     "duration": 0.01686,
     "end_time": "2023-09-21T13:23:05.106981",
     "exception": false,
     "start_time": "2023-09-21T13:23:05.090121",
     "status": "completed"
    },
    "tags": []
   },
   "source": [
    "# **Data Preprocessing**"
   ]
  },
  {
   "cell_type": "code",
   "execution_count": 10,
   "id": "7c1b3990",
   "metadata": {
    "execution": {
     "iopub.execute_input": "2023-09-21T13:23:05.142421Z",
     "iopub.status.busy": "2023-09-21T13:23:05.142006Z",
     "iopub.status.idle": "2023-09-21T13:23:11.482410Z",
     "shell.execute_reply": "2023-09-21T13:23:11.480906Z"
    },
    "papermill": {
     "duration": 6.361913,
     "end_time": "2023-09-21T13:23:11.485663",
     "exception": false,
     "start_time": "2023-09-21T13:23:05.123750",
     "status": "completed"
    },
    "tags": []
   },
   "outputs": [],
   "source": [
    "# Instead of missing data use use empty string\n",
    "# Convert 'reviewText' to numerical features using TF-IDF\n",
    "training_data['reviewText'].fillna('', inplace=True)\n",
    "\n",
    "from sklearn.pipeline import Pipeline\n",
    "from sklearn.feature_extraction.text import TfidfVectorizer\n",
    "prepipe = Pipeline([('tfidf_vector',TfidfVectorizer(max_features=6000))]) # Adjust max_features as needed\n",
    "X_data = prepipe.fit_transform(training_data['reviewText'])"
   ]
  },
  {
   "cell_type": "code",
   "execution_count": 11,
   "id": "d9326915",
   "metadata": {
    "execution": {
     "iopub.execute_input": "2023-09-21T13:23:11.589608Z",
     "iopub.status.busy": "2023-09-21T13:23:11.589145Z",
     "iopub.status.idle": "2023-09-21T13:23:11.595665Z",
     "shell.execute_reply": "2023-09-21T13:23:11.594370Z"
    },
    "papermill": {
     "duration": 0.027474,
     "end_time": "2023-09-21T13:23:11.598531",
     "exception": false,
     "start_time": "2023-09-21T13:23:11.571057",
     "status": "completed"
    },
    "tags": []
   },
   "outputs": [],
   "source": [
    "# Spliting the data into feature and target \n",
    "x = X_data\n",
    "y = training_data['sentiment']"
   ]
  },
  {
   "cell_type": "code",
   "execution_count": 12,
   "id": "3ff30f08",
   "metadata": {
    "execution": {
     "iopub.execute_input": "2023-09-21T13:23:11.635077Z",
     "iopub.status.busy": "2023-09-21T13:23:11.633785Z",
     "iopub.status.idle": "2023-09-21T13:23:11.799887Z",
     "shell.execute_reply": "2023-09-21T13:23:11.798535Z"
    },
    "papermill": {
     "duration": 0.187479,
     "end_time": "2023-09-21T13:23:11.803111",
     "exception": false,
     "start_time": "2023-09-21T13:23:11.615632",
     "status": "completed"
    },
    "tags": []
   },
   "outputs": [],
   "source": [
    "# Split the data into training and testing sets\n",
    "from sklearn.model_selection import train_test_split\n",
    "x_train, x_test_values, y_train, y_test_values = train_test_split(x, y, test_size=0.2, random_state=42)"
   ]
  },
  {
   "cell_type": "code",
   "execution_count": 13,
   "id": "81d03a67",
   "metadata": {
    "execution": {
     "iopub.execute_input": "2023-09-21T13:23:11.840243Z",
     "iopub.status.busy": "2023-09-21T13:23:11.839714Z",
     "iopub.status.idle": "2023-09-21T13:23:11.844135Z",
     "shell.execute_reply": "2023-09-21T13:23:11.843302Z"
    },
    "papermill": {
     "duration": 0.025765,
     "end_time": "2023-09-21T13:23:11.846481",
     "exception": false,
     "start_time": "2023-09-21T13:23:11.820716",
     "status": "completed"
    },
    "tags": []
   },
   "outputs": [],
   "source": [
    "import warnings\n",
    "\n",
    "# To suppress all warnings:\n",
    "warnings.filterwarnings(\"ignore\")"
   ]
  },
  {
   "cell_type": "markdown",
   "id": "60dc8e77",
   "metadata": {
    "papermill": {
     "duration": 0.016525,
     "end_time": "2023-09-21T13:23:11.880134",
     "exception": false,
     "start_time": "2023-09-21T13:23:11.863609",
     "status": "completed"
    },
    "tags": []
   },
   "source": [
    "# **logistic regression**"
   ]
  },
  {
   "cell_type": "markdown",
   "id": "7570c415",
   "metadata": {
    "papermill": {
     "duration": 0.016776,
     "end_time": "2023-09-21T13:23:11.913791",
     "exception": false,
     "start_time": "2023-09-21T13:23:11.897015",
     "status": "completed"
    },
    "tags": []
   },
   "source": [
    "**Train**"
   ]
  },
  {
   "cell_type": "code",
   "execution_count": 14,
   "id": "abff54f1",
   "metadata": {
    "execution": {
     "iopub.execute_input": "2023-09-21T13:23:11.950404Z",
     "iopub.status.busy": "2023-09-21T13:23:11.949558Z",
     "iopub.status.idle": "2023-09-21T13:23:11.956435Z",
     "shell.execute_reply": "2023-09-21T13:23:11.955091Z"
    },
    "papermill": {
     "duration": 0.028079,
     "end_time": "2023-09-21T13:23:11.959130",
     "exception": false,
     "start_time": "2023-09-21T13:23:11.931051",
     "status": "completed"
    },
    "tags": []
   },
   "outputs": [],
   "source": [
    "# Hyperparameters\n",
    "p_grid = {\n",
    "    'C': [0.01, 0.1,0.5, 1, 10],  # Regularization strength\n",
    "    'penalty': ['l1', 'l2'],   # Penalty \n",
    "    'max_iter': [50,75,100],   # Maximum number of iterations\n",
    "}"
   ]
  },
  {
   "cell_type": "code",
   "execution_count": 15,
   "id": "50d46b53",
   "metadata": {
    "execution": {
     "iopub.execute_input": "2023-09-21T13:23:11.995504Z",
     "iopub.status.busy": "2023-09-21T13:23:11.994305Z",
     "iopub.status.idle": "2023-09-21T13:25:27.131832Z",
     "shell.execute_reply": "2023-09-21T13:25:27.130748Z"
    },
    "papermill": {
     "duration": 135.175744,
     "end_time": "2023-09-21T13:25:27.151701",
     "exception": false,
     "start_time": "2023-09-21T13:23:11.975957",
     "status": "completed"
    },
    "tags": []
   },
   "outputs": [
    {
     "data": {
      "text/html": [
       "<style>#sk-container-id-1 {color: black;background-color: white;}#sk-container-id-1 pre{padding: 0;}#sk-container-id-1 div.sk-toggleable {background-color: white;}#sk-container-id-1 label.sk-toggleable__label {cursor: pointer;display: block;width: 100%;margin-bottom: 0;padding: 0.3em;box-sizing: border-box;text-align: center;}#sk-container-id-1 label.sk-toggleable__label-arrow:before {content: \"▸\";float: left;margin-right: 0.25em;color: #696969;}#sk-container-id-1 label.sk-toggleable__label-arrow:hover:before {color: black;}#sk-container-id-1 div.sk-estimator:hover label.sk-toggleable__label-arrow:before {color: black;}#sk-container-id-1 div.sk-toggleable__content {max-height: 0;max-width: 0;overflow: hidden;text-align: left;background-color: #f0f8ff;}#sk-container-id-1 div.sk-toggleable__content pre {margin: 0.2em;color: black;border-radius: 0.25em;background-color: #f0f8ff;}#sk-container-id-1 input.sk-toggleable__control:checked~div.sk-toggleable__content {max-height: 200px;max-width: 100%;overflow: auto;}#sk-container-id-1 input.sk-toggleable__control:checked~label.sk-toggleable__label-arrow:before {content: \"▾\";}#sk-container-id-1 div.sk-estimator input.sk-toggleable__control:checked~label.sk-toggleable__label {background-color: #d4ebff;}#sk-container-id-1 div.sk-label input.sk-toggleable__control:checked~label.sk-toggleable__label {background-color: #d4ebff;}#sk-container-id-1 input.sk-hidden--visually {border: 0;clip: rect(1px 1px 1px 1px);clip: rect(1px, 1px, 1px, 1px);height: 1px;margin: -1px;overflow: hidden;padding: 0;position: absolute;width: 1px;}#sk-container-id-1 div.sk-estimator {font-family: monospace;background-color: #f0f8ff;border: 1px dotted black;border-radius: 0.25em;box-sizing: border-box;margin-bottom: 0.5em;}#sk-container-id-1 div.sk-estimator:hover {background-color: #d4ebff;}#sk-container-id-1 div.sk-parallel-item::after {content: \"\";width: 100%;border-bottom: 1px solid gray;flex-grow: 1;}#sk-container-id-1 div.sk-label:hover label.sk-toggleable__label {background-color: #d4ebff;}#sk-container-id-1 div.sk-serial::before {content: \"\";position: absolute;border-left: 1px solid gray;box-sizing: border-box;top: 0;bottom: 0;left: 50%;z-index: 0;}#sk-container-id-1 div.sk-serial {display: flex;flex-direction: column;align-items: center;background-color: white;padding-right: 0.2em;padding-left: 0.2em;position: relative;}#sk-container-id-1 div.sk-item {position: relative;z-index: 1;}#sk-container-id-1 div.sk-parallel {display: flex;align-items: stretch;justify-content: center;background-color: white;position: relative;}#sk-container-id-1 div.sk-item::before, #sk-container-id-1 div.sk-parallel-item::before {content: \"\";position: absolute;border-left: 1px solid gray;box-sizing: border-box;top: 0;bottom: 0;left: 50%;z-index: -1;}#sk-container-id-1 div.sk-parallel-item {display: flex;flex-direction: column;z-index: 1;position: relative;background-color: white;}#sk-container-id-1 div.sk-parallel-item:first-child::after {align-self: flex-end;width: 50%;}#sk-container-id-1 div.sk-parallel-item:last-child::after {align-self: flex-start;width: 50%;}#sk-container-id-1 div.sk-parallel-item:only-child::after {width: 0;}#sk-container-id-1 div.sk-dashed-wrapped {border: 1px dashed gray;margin: 0 0.4em 0.5em 0.4em;box-sizing: border-box;padding-bottom: 0.4em;background-color: white;}#sk-container-id-1 div.sk-label label {font-family: monospace;font-weight: bold;display: inline-block;line-height: 1.2em;}#sk-container-id-1 div.sk-label-container {text-align: center;}#sk-container-id-1 div.sk-container {/* jupyter's `normalize.less` sets `[hidden] { display: none; }` but bootstrap.min.css set `[hidden] { display: none !important; }` so we also need the `!important` here to be able to override the default hidden behavior on the sphinx rendered scikit-learn.org. See: https://github.com/scikit-learn/scikit-learn/issues/21755 */display: inline-block !important;position: relative;}#sk-container-id-1 div.sk-text-repr-fallback {display: none;}</style><div id=\"sk-container-id-1\" class=\"sk-top-container\"><div class=\"sk-text-repr-fallback\"><pre>GridSearchCV(cv=5, estimator=LogisticRegression(),\n",
       "             param_grid={&#x27;C&#x27;: [0.01, 0.1, 0.5, 1, 10],\n",
       "                         &#x27;max_iter&#x27;: [50, 75, 100], &#x27;penalty&#x27;: [&#x27;l1&#x27;, &#x27;l2&#x27;]},\n",
       "             scoring=&#x27;accuracy&#x27;)</pre><b>In a Jupyter environment, please rerun this cell to show the HTML representation or trust the notebook. <br />On GitHub, the HTML representation is unable to render, please try loading this page with nbviewer.org.</b></div><div class=\"sk-container\" hidden><div class=\"sk-item sk-dashed-wrapped\"><div class=\"sk-label-container\"><div class=\"sk-label sk-toggleable\"><input class=\"sk-toggleable__control sk-hidden--visually\" id=\"sk-estimator-id-1\" type=\"checkbox\" ><label for=\"sk-estimator-id-1\" class=\"sk-toggleable__label sk-toggleable__label-arrow\">GridSearchCV</label><div class=\"sk-toggleable__content\"><pre>GridSearchCV(cv=5, estimator=LogisticRegression(),\n",
       "             param_grid={&#x27;C&#x27;: [0.01, 0.1, 0.5, 1, 10],\n",
       "                         &#x27;max_iter&#x27;: [50, 75, 100], &#x27;penalty&#x27;: [&#x27;l1&#x27;, &#x27;l2&#x27;]},\n",
       "             scoring=&#x27;accuracy&#x27;)</pre></div></div></div><div class=\"sk-parallel\"><div class=\"sk-parallel-item\"><div class=\"sk-item\"><div class=\"sk-label-container\"><div class=\"sk-label sk-toggleable\"><input class=\"sk-toggleable__control sk-hidden--visually\" id=\"sk-estimator-id-2\" type=\"checkbox\" ><label for=\"sk-estimator-id-2\" class=\"sk-toggleable__label sk-toggleable__label-arrow\">estimator: LogisticRegression</label><div class=\"sk-toggleable__content\"><pre>LogisticRegression()</pre></div></div></div><div class=\"sk-serial\"><div class=\"sk-item\"><div class=\"sk-estimator sk-toggleable\"><input class=\"sk-toggleable__control sk-hidden--visually\" id=\"sk-estimator-id-3\" type=\"checkbox\" ><label for=\"sk-estimator-id-3\" class=\"sk-toggleable__label sk-toggleable__label-arrow\">LogisticRegression</label><div class=\"sk-toggleable__content\"><pre>LogisticRegression()</pre></div></div></div></div></div></div></div></div></div></div>"
      ],
      "text/plain": [
       "GridSearchCV(cv=5, estimator=LogisticRegression(),\n",
       "             param_grid={'C': [0.01, 0.1, 0.5, 1, 10],\n",
       "                         'max_iter': [50, 75, 100], 'penalty': ['l1', 'l2']},\n",
       "             scoring='accuracy')"
      ]
     },
     "execution_count": 15,
     "metadata": {},
     "output_type": "execute_result"
    }
   ],
   "source": [
    "from sklearn.linear_model import LogisticRegression\n",
    "from sklearn.model_selection import GridSearchCV\n",
    "\n",
    "class_model = LogisticRegression()       # Initialize\n",
    "grid_search_cv = GridSearchCV(class_model, p_grid, cv=5, scoring = 'accuracy')  #Perform grid search with cross-validation\n",
    "grid_search_cv.fit(x_train, y_train)\n"
   ]
  },
  {
   "cell_type": "code",
   "execution_count": 16,
   "id": "84973a97",
   "metadata": {
    "execution": {
     "iopub.execute_input": "2023-09-21T13:25:27.188429Z",
     "iopub.status.busy": "2023-09-21T13:25:27.186754Z",
     "iopub.status.idle": "2023-09-21T13:25:27.195967Z",
     "shell.execute_reply": "2023-09-21T13:25:27.194719Z"
    },
    "papermill": {
     "duration": 0.030356,
     "end_time": "2023-09-21T13:25:27.198651",
     "exception": false,
     "start_time": "2023-09-21T13:25:27.168295",
     "status": "completed"
    },
    "tags": []
   },
   "outputs": [
    {
     "name": "stdout",
     "output_type": "stream",
     "text": [
      "{'C': 10, 'max_iter': 50, 'penalty': 'l2'}\n"
     ]
    }
   ],
   "source": [
    "#best hyperparameters from GCV\n",
    "best_parameters = grid_search_cv.best_params_\n",
    "print(best_parameters)"
   ]
  },
  {
   "cell_type": "code",
   "execution_count": 17,
   "id": "13aaef0d",
   "metadata": {
    "execution": {
     "iopub.execute_input": "2023-09-21T13:25:27.236797Z",
     "iopub.status.busy": "2023-09-21T13:25:27.235730Z",
     "iopub.status.idle": "2023-09-21T13:25:28.877599Z",
     "shell.execute_reply": "2023-09-21T13:25:28.876211Z"
    },
    "papermill": {
     "duration": 1.664551,
     "end_time": "2023-09-21T13:25:28.880702",
     "exception": false,
     "start_time": "2023-09-21T13:25:27.216151",
     "status": "completed"
    },
    "tags": []
   },
   "outputs": [
    {
     "data": {
      "text/html": [
       "<style>#sk-container-id-2 {color: black;background-color: white;}#sk-container-id-2 pre{padding: 0;}#sk-container-id-2 div.sk-toggleable {background-color: white;}#sk-container-id-2 label.sk-toggleable__label {cursor: pointer;display: block;width: 100%;margin-bottom: 0;padding: 0.3em;box-sizing: border-box;text-align: center;}#sk-container-id-2 label.sk-toggleable__label-arrow:before {content: \"▸\";float: left;margin-right: 0.25em;color: #696969;}#sk-container-id-2 label.sk-toggleable__label-arrow:hover:before {color: black;}#sk-container-id-2 div.sk-estimator:hover label.sk-toggleable__label-arrow:before {color: black;}#sk-container-id-2 div.sk-toggleable__content {max-height: 0;max-width: 0;overflow: hidden;text-align: left;background-color: #f0f8ff;}#sk-container-id-2 div.sk-toggleable__content pre {margin: 0.2em;color: black;border-radius: 0.25em;background-color: #f0f8ff;}#sk-container-id-2 input.sk-toggleable__control:checked~div.sk-toggleable__content {max-height: 200px;max-width: 100%;overflow: auto;}#sk-container-id-2 input.sk-toggleable__control:checked~label.sk-toggleable__label-arrow:before {content: \"▾\";}#sk-container-id-2 div.sk-estimator input.sk-toggleable__control:checked~label.sk-toggleable__label {background-color: #d4ebff;}#sk-container-id-2 div.sk-label input.sk-toggleable__control:checked~label.sk-toggleable__label {background-color: #d4ebff;}#sk-container-id-2 input.sk-hidden--visually {border: 0;clip: rect(1px 1px 1px 1px);clip: rect(1px, 1px, 1px, 1px);height: 1px;margin: -1px;overflow: hidden;padding: 0;position: absolute;width: 1px;}#sk-container-id-2 div.sk-estimator {font-family: monospace;background-color: #f0f8ff;border: 1px dotted black;border-radius: 0.25em;box-sizing: border-box;margin-bottom: 0.5em;}#sk-container-id-2 div.sk-estimator:hover {background-color: #d4ebff;}#sk-container-id-2 div.sk-parallel-item::after {content: \"\";width: 100%;border-bottom: 1px solid gray;flex-grow: 1;}#sk-container-id-2 div.sk-label:hover label.sk-toggleable__label {background-color: #d4ebff;}#sk-container-id-2 div.sk-serial::before {content: \"\";position: absolute;border-left: 1px solid gray;box-sizing: border-box;top: 0;bottom: 0;left: 50%;z-index: 0;}#sk-container-id-2 div.sk-serial {display: flex;flex-direction: column;align-items: center;background-color: white;padding-right: 0.2em;padding-left: 0.2em;position: relative;}#sk-container-id-2 div.sk-item {position: relative;z-index: 1;}#sk-container-id-2 div.sk-parallel {display: flex;align-items: stretch;justify-content: center;background-color: white;position: relative;}#sk-container-id-2 div.sk-item::before, #sk-container-id-2 div.sk-parallel-item::before {content: \"\";position: absolute;border-left: 1px solid gray;box-sizing: border-box;top: 0;bottom: 0;left: 50%;z-index: -1;}#sk-container-id-2 div.sk-parallel-item {display: flex;flex-direction: column;z-index: 1;position: relative;background-color: white;}#sk-container-id-2 div.sk-parallel-item:first-child::after {align-self: flex-end;width: 50%;}#sk-container-id-2 div.sk-parallel-item:last-child::after {align-self: flex-start;width: 50%;}#sk-container-id-2 div.sk-parallel-item:only-child::after {width: 0;}#sk-container-id-2 div.sk-dashed-wrapped {border: 1px dashed gray;margin: 0 0.4em 0.5em 0.4em;box-sizing: border-box;padding-bottom: 0.4em;background-color: white;}#sk-container-id-2 div.sk-label label {font-family: monospace;font-weight: bold;display: inline-block;line-height: 1.2em;}#sk-container-id-2 div.sk-label-container {text-align: center;}#sk-container-id-2 div.sk-container {/* jupyter's `normalize.less` sets `[hidden] { display: none; }` but bootstrap.min.css set `[hidden] { display: none !important; }` so we also need the `!important` here to be able to override the default hidden behavior on the sphinx rendered scikit-learn.org. See: https://github.com/scikit-learn/scikit-learn/issues/21755 */display: inline-block !important;position: relative;}#sk-container-id-2 div.sk-text-repr-fallback {display: none;}</style><div id=\"sk-container-id-2\" class=\"sk-top-container\"><div class=\"sk-text-repr-fallback\"><pre>LogisticRegression(C=10, max_iter=50)</pre><b>In a Jupyter environment, please rerun this cell to show the HTML representation or trust the notebook. <br />On GitHub, the HTML representation is unable to render, please try loading this page with nbviewer.org.</b></div><div class=\"sk-container\" hidden><div class=\"sk-item\"><div class=\"sk-estimator sk-toggleable\"><input class=\"sk-toggleable__control sk-hidden--visually\" id=\"sk-estimator-id-4\" type=\"checkbox\" checked><label for=\"sk-estimator-id-4\" class=\"sk-toggleable__label sk-toggleable__label-arrow\">LogisticRegression</label><div class=\"sk-toggleable__content\"><pre>LogisticRegression(C=10, max_iter=50)</pre></div></div></div></div></div>"
      ],
      "text/plain": [
       "LogisticRegression(C=10, max_iter=50)"
      ]
     },
     "execution_count": 17,
     "metadata": {},
     "output_type": "execute_result"
    }
   ],
   "source": [
    "# traning the modelwith best hyperperameters\n",
    "logistic_best_model = LogisticRegression(**best_parameters)\n",
    "logistic_best_model.fit(x_train, y_train)"
   ]
  },
  {
   "cell_type": "code",
   "execution_count": 18,
   "id": "f6388dbe",
   "metadata": {
    "execution": {
     "iopub.execute_input": "2023-09-21T13:25:28.919925Z",
     "iopub.status.busy": "2023-09-21T13:25:28.919461Z",
     "iopub.status.idle": "2023-09-21T13:25:28.928322Z",
     "shell.execute_reply": "2023-09-21T13:25:28.926959Z"
    },
    "papermill": {
     "duration": 0.032131,
     "end_time": "2023-09-21T13:25:28.931413",
     "exception": false,
     "start_time": "2023-09-21T13:25:28.899282",
     "status": "completed"
    },
    "tags": []
   },
   "outputs": [],
   "source": [
    "#Predicting on the test set for hyperparameter tuning\n",
    "y_predict = logistic_best_model.predict(x_test_values)"
   ]
  },
  {
   "cell_type": "code",
   "execution_count": 19,
   "id": "08cd3184",
   "metadata": {
    "execution": {
     "iopub.execute_input": "2023-09-21T13:25:28.969187Z",
     "iopub.status.busy": "2023-09-21T13:25:28.968722Z",
     "iopub.status.idle": "2023-09-21T13:25:29.787972Z",
     "shell.execute_reply": "2023-09-21T13:25:29.785934Z"
    },
    "papermill": {
     "duration": 0.841382,
     "end_time": "2023-09-21T13:25:29.790701",
     "exception": false,
     "start_time": "2023-09-21T13:25:28.949319",
     "status": "completed"
    },
    "tags": []
   },
   "outputs": [
    {
     "name": "stdout",
     "output_type": "stream",
     "text": [
      "Accuracy on training: 0.810\n",
      "Accuracy on testing: 0.789\n"
     ]
    }
   ],
   "source": [
    "y_train_predict = logistic_best_model.predict(x_train)\n",
    "y_test_predict = logistic_best_model.predict(x_test_values)\n",
    "\n",
    "from sklearn.metrics import accuracy_score\n",
    "accurace_train = accuracy_score(y_train_predict, y_train)\n",
    "accurace_test = accuracy_score(y_test_predict, y_test_values)\n",
    "print(f\"Accuracy on training: {accurace_train:.3f}\")\n",
    "print(f\"Accuracy on testing: {accurace_test:.3f}\")\n"
   ]
  },
  {
   "cell_type": "markdown",
   "id": "81f13e2b",
   "metadata": {
    "papermill": {
     "duration": 0.017421,
     "end_time": "2023-09-21T13:25:29.826506",
     "exception": false,
     "start_time": "2023-09-21T13:25:29.809085",
     "status": "completed"
    },
    "tags": []
   },
   "source": [
    "**Test**"
   ]
  },
  {
   "cell_type": "code",
   "execution_count": 20,
   "id": "06fc14d3",
   "metadata": {
    "execution": {
     "iopub.execute_input": "2023-09-21T13:25:29.865179Z",
     "iopub.status.busy": "2023-09-21T13:25:29.864701Z",
     "iopub.status.idle": "2023-09-21T13:25:30.210741Z",
     "shell.execute_reply": "2023-09-21T13:25:30.209172Z"
    },
    "papermill": {
     "duration": 0.368929,
     "end_time": "2023-09-21T13:25:30.213906",
     "exception": false,
     "start_time": "2023-09-21T13:25:29.844977",
     "status": "completed"
    },
    "tags": []
   },
   "outputs": [],
   "source": [
    "testing_data = pd.read_csv('/kaggle/input/sentiment-prediction-on-movie-reviews-term-break1/test.csv (1)/test.csv')"
   ]
  },
  {
   "cell_type": "code",
   "execution_count": 21,
   "id": "7a911921",
   "metadata": {
    "execution": {
     "iopub.execute_input": "2023-09-21T13:25:30.252006Z",
     "iopub.status.busy": "2023-09-21T13:25:30.251578Z",
     "iopub.status.idle": "2023-09-21T13:25:30.279796Z",
     "shell.execute_reply": "2023-09-21T13:25:30.278330Z"
    },
    "papermill": {
     "duration": 0.050474,
     "end_time": "2023-09-21T13:25:30.282528",
     "exception": false,
     "start_time": "2023-09-21T13:25:30.232054",
     "status": "completed"
    },
    "tags": []
   },
   "outputs": [
    {
     "name": "stdout",
     "output_type": "stream",
     "text": [
      "movieid            0\n",
      "reviewerName       0\n",
      "isTopCritic        0\n",
      "reviewText      2510\n",
      "dtype: int64\n"
     ]
    }
   ],
   "source": [
    "no_missing_values_test = testing_data.isnull().sum()\n",
    "print(no_missing_values_test)"
   ]
  },
  {
   "cell_type": "code",
   "execution_count": 22,
   "id": "810e9436",
   "metadata": {
    "execution": {
     "iopub.execute_input": "2023-09-21T13:25:30.320597Z",
     "iopub.status.busy": "2023-09-21T13:25:30.320142Z",
     "iopub.status.idle": "2023-09-21T13:25:32.351086Z",
     "shell.execute_reply": "2023-09-21T13:25:32.349837Z"
    },
    "papermill": {
     "duration": 2.054161,
     "end_time": "2023-09-21T13:25:32.354513",
     "exception": false,
     "start_time": "2023-09-21T13:25:30.300352",
     "status": "completed"
    },
    "tags": []
   },
   "outputs": [],
   "source": [
    "testing_data['reviewText'].fillna('', inplace=True)\n",
    "x_test_tf = prepipe.transform(testing_data['reviewText'])"
   ]
  },
  {
   "cell_type": "code",
   "execution_count": 23,
   "id": "59844c1d",
   "metadata": {
    "execution": {
     "iopub.execute_input": "2023-09-21T13:25:32.400167Z",
     "iopub.status.busy": "2023-09-21T13:25:32.399075Z",
     "iopub.status.idle": "2023-09-21T13:25:32.435686Z",
     "shell.execute_reply": "2023-09-21T13:25:32.433848Z"
    },
    "papermill": {
     "duration": 0.066798,
     "end_time": "2023-09-21T13:25:32.441554",
     "exception": false,
     "start_time": "2023-09-21T13:25:32.374756",
     "status": "completed"
    },
    "tags": []
   },
   "outputs": [
    {
     "name": "stdout",
     "output_type": "stream",
     "text": [
      "movieid         0\n",
      "reviewerName    0\n",
      "isTopCritic     0\n",
      "reviewText      0\n",
      "dtype: int64\n"
     ]
    }
   ],
   "source": [
    "noo_missing_values_test = testing_data.isnull().sum()\n",
    "print(noo_missing_values_test)"
   ]
  },
  {
   "cell_type": "code",
   "execution_count": 24,
   "id": "ea809074",
   "metadata": {
    "execution": {
     "iopub.execute_input": "2023-09-21T13:25:32.490951Z",
     "iopub.status.busy": "2023-09-21T13:25:32.489541Z",
     "iopub.status.idle": "2023-09-21T13:25:32.500177Z",
     "shell.execute_reply": "2023-09-21T13:25:32.499124Z"
    },
    "papermill": {
     "duration": 0.037749,
     "end_time": "2023-09-21T13:25:32.503062",
     "exception": false,
     "start_time": "2023-09-21T13:25:32.465313",
     "status": "completed"
    },
    "tags": []
   },
   "outputs": [],
   "source": [
    "prediction = logistic_best_model.predict(x_test_tf)"
   ]
  },
  {
   "cell_type": "markdown",
   "id": "261835f8",
   "metadata": {
    "papermill": {
     "duration": 0.017411,
     "end_time": "2023-09-21T13:25:32.538471",
     "exception": false,
     "start_time": "2023-09-21T13:25:32.521060",
     "status": "completed"
    },
    "tags": []
   },
   "source": [
    "# **MultinomialNB**"
   ]
  },
  {
   "cell_type": "markdown",
   "id": "1022518d",
   "metadata": {
    "papermill": {
     "duration": 0.017614,
     "end_time": "2023-09-21T13:25:32.574552",
     "exception": false,
     "start_time": "2023-09-21T13:25:32.556938",
     "status": "completed"
    },
    "tags": []
   },
   "source": [
    "**Train**"
   ]
  },
  {
   "cell_type": "code",
   "execution_count": 25,
   "id": "7ec1da47",
   "metadata": {
    "execution": {
     "iopub.execute_input": "2023-09-21T13:25:32.613799Z",
     "iopub.status.busy": "2023-09-21T13:25:32.612540Z",
     "iopub.status.idle": "2023-09-21T13:25:32.620681Z",
     "shell.execute_reply": "2023-09-21T13:25:32.619569Z"
    },
    "papermill": {
     "duration": 0.030224,
     "end_time": "2023-09-21T13:25:32.623400",
     "exception": false,
     "start_time": "2023-09-21T13:25:32.593176",
     "status": "completed"
    },
    "tags": []
   },
   "outputs": [
    {
     "data": {
      "text/plain": [
       "\"from sklearn.naive_bayes import MultinomialNB\\nmnb = MultinomialNB()\\np_grid = {'alpha': [0.01, 0.05,0.07, 1.0, 2.0]} #used to handle the issue of zero probabilities when estimating class-conditional probabilities of features given a class in the MNB model\\n\""
      ]
     },
     "execution_count": 25,
     "metadata": {},
     "output_type": "execute_result"
    }
   ],
   "source": [
    "'''from sklearn.naive_bayes import MultinomialNB\n",
    "mnb = MultinomialNB()\n",
    "p_grid = {'alpha': [0.01, 0.05,0.07, 1.0, 2.0]} #used to handle the issue of zero probabilities when estimating class-conditional probabilities of features given a class in the MNB model\n",
    "'''"
   ]
  },
  {
   "cell_type": "code",
   "execution_count": 26,
   "id": "cd22363b",
   "metadata": {
    "execution": {
     "iopub.execute_input": "2023-09-21T13:25:32.662027Z",
     "iopub.status.busy": "2023-09-21T13:25:32.661214Z",
     "iopub.status.idle": "2023-09-21T13:25:32.668785Z",
     "shell.execute_reply": "2023-09-21T13:25:32.667627Z"
    },
    "papermill": {
     "duration": 0.030004,
     "end_time": "2023-09-21T13:25:32.671615",
     "exception": false,
     "start_time": "2023-09-21T13:25:32.641611",
     "status": "completed"
    },
    "tags": []
   },
   "outputs": [
    {
     "data": {
      "text/plain": [
       "\"from sklearn.model_selection import GridSearchCV\\n\\ngrid_search_cv = GridSearchCV(mnb, p_grid, cv=5, scoring='accuracy')  #Perform grid search with cross-validation\\ngrid_search_cv.fit(x_train, y_train)\\n\""
      ]
     },
     "execution_count": 26,
     "metadata": {},
     "output_type": "execute_result"
    }
   ],
   "source": [
    "'''from sklearn.model_selection import GridSearchCV\n",
    "\n",
    "grid_search_cv = GridSearchCV(mnb, p_grid, cv=5, scoring='accuracy')  #Perform grid search with cross-validation\n",
    "grid_search_cv.fit(x_train, y_train)\n",
    "'''"
   ]
  },
  {
   "cell_type": "code",
   "execution_count": 27,
   "id": "b03083ba",
   "metadata": {
    "execution": {
     "iopub.execute_input": "2023-09-21T13:25:32.711520Z",
     "iopub.status.busy": "2023-09-21T13:25:32.711054Z",
     "iopub.status.idle": "2023-09-21T13:25:32.719684Z",
     "shell.execute_reply": "2023-09-21T13:25:32.718392Z"
    },
    "papermill": {
     "duration": 0.032602,
     "end_time": "2023-09-21T13:25:32.722566",
     "exception": false,
     "start_time": "2023-09-21T13:25:32.689964",
     "status": "completed"
    },
    "tags": []
   },
   "outputs": [
    {
     "data": {
      "text/plain": [
       "'best_parameters = grid_search_cv.best_params_\\nprint(best_parameters)\\n'"
      ]
     },
     "execution_count": 27,
     "metadata": {},
     "output_type": "execute_result"
    }
   ],
   "source": [
    "#best hyperparameters from GCV\n",
    "'''best_parameters = grid_search_cv.best_params_\n",
    "print(best_parameters)\n",
    "'''"
   ]
  },
  {
   "cell_type": "code",
   "execution_count": 28,
   "id": "9a3fdb20",
   "metadata": {
    "execution": {
     "iopub.execute_input": "2023-09-21T13:25:32.763187Z",
     "iopub.status.busy": "2023-09-21T13:25:32.762679Z",
     "iopub.status.idle": "2023-09-21T13:25:32.768407Z",
     "shell.execute_reply": "2023-09-21T13:25:32.766954Z"
    },
    "papermill": {
     "duration": 0.029756,
     "end_time": "2023-09-21T13:25:32.771142",
     "exception": false,
     "start_time": "2023-09-21T13:25:32.741386",
     "status": "completed"
    },
    "tags": []
   },
   "outputs": [],
   "source": [
    "#best_mnb_model = MultinomialNB(**best_parameters).fit(x_train,y_train)"
   ]
  },
  {
   "cell_type": "code",
   "execution_count": 29,
   "id": "a7b44efa",
   "metadata": {
    "execution": {
     "iopub.execute_input": "2023-09-21T13:25:32.812432Z",
     "iopub.status.busy": "2023-09-21T13:25:32.811970Z",
     "iopub.status.idle": "2023-09-21T13:25:32.820684Z",
     "shell.execute_reply": "2023-09-21T13:25:32.819264Z"
    },
    "papermill": {
     "duration": 0.031729,
     "end_time": "2023-09-21T13:25:32.823285",
     "exception": false,
     "start_time": "2023-09-21T13:25:32.791556",
     "status": "completed"
    },
    "tags": []
   },
   "outputs": [
    {
     "data": {
      "text/plain": [
       "'y_train_predict = best_mnb_model.predict(x_train)\\ny_test_predict = best_mnb_model.predict(x_test_values)\\n\\nfrom sklearn.metrics import accuracy_score\\naccurace_train = accuracy_score(y_train_predict, y_train)\\naccurace_test = accuracy_score(y_test_predict, y_test_values)\\nprint(f\"Accuracy on training: {accurace_train:.3f}\")\\nprint(f\"Accuracy on testing: {accurace_test:.3f}\")\\n'"
      ]
     },
     "execution_count": 29,
     "metadata": {},
     "output_type": "execute_result"
    }
   ],
   "source": [
    "'''y_train_predict = best_mnb_model.predict(x_train)\n",
    "y_test_predict = best_mnb_model.predict(x_test_values)\n",
    "\n",
    "from sklearn.metrics import accuracy_score\n",
    "accurace_train = accuracy_score(y_train_predict, y_train)\n",
    "accurace_test = accuracy_score(y_test_predict, y_test_values)\n",
    "print(f\"Accuracy on training: {accurace_train:.3f}\")\n",
    "print(f\"Accuracy on testing: {accurace_test:.3f}\")\n",
    "'''"
   ]
  },
  {
   "cell_type": "markdown",
   "id": "32903e66",
   "metadata": {
    "papermill": {
     "duration": 0.0192,
     "end_time": "2023-09-21T13:25:32.861504",
     "exception": false,
     "start_time": "2023-09-21T13:25:32.842304",
     "status": "completed"
    },
    "tags": []
   },
   "source": [
    "**Test**"
   ]
  },
  {
   "cell_type": "code",
   "execution_count": 30,
   "id": "72863822",
   "metadata": {
    "execution": {
     "iopub.execute_input": "2023-09-21T13:25:32.901299Z",
     "iopub.status.busy": "2023-09-21T13:25:32.900574Z",
     "iopub.status.idle": "2023-09-21T13:25:32.908646Z",
     "shell.execute_reply": "2023-09-21T13:25:32.907291Z"
    },
    "papermill": {
     "duration": 0.031157,
     "end_time": "2023-09-21T13:25:32.911431",
     "exception": false,
     "start_time": "2023-09-21T13:25:32.880274",
     "status": "completed"
    },
    "tags": []
   },
   "outputs": [
    {
     "data": {
      "text/plain": [
       "\"testing_data = pd.read_csv('/kaggle/input/sentiment-prediction-on-movie-reviews-term-break1/test.csv (1)/test.csv')\\nno_missing_values_test = testing_data.isnull().sum()\\nprint(no_missing_values_test)\\n\""
      ]
     },
     "execution_count": 30,
     "metadata": {},
     "output_type": "execute_result"
    }
   ],
   "source": [
    "'''testing_data = pd.read_csv('/kaggle/input/sentiment-prediction-on-movie-reviews-term-break1/test.csv (1)/test.csv')\n",
    "no_missing_values_test = testing_data.isnull().sum()\n",
    "print(no_missing_values_test)\n",
    "'''"
   ]
  },
  {
   "cell_type": "code",
   "execution_count": 31,
   "id": "adb48870",
   "metadata": {
    "execution": {
     "iopub.execute_input": "2023-09-21T13:25:32.952565Z",
     "iopub.status.busy": "2023-09-21T13:25:32.952121Z",
     "iopub.status.idle": "2023-09-21T13:25:32.960204Z",
     "shell.execute_reply": "2023-09-21T13:25:32.958992Z"
    },
    "papermill": {
     "duration": 0.031558,
     "end_time": "2023-09-21T13:25:32.962571",
     "exception": false,
     "start_time": "2023-09-21T13:25:32.931013",
     "status": "completed"
    },
    "tags": []
   },
   "outputs": [
    {
     "data": {
      "text/plain": [
       "\"testing_data['reviewText'].fillna('', inplace=True)\\nx_test_tf = prepipe.transform(testing_data['reviewText'])\\nnoo_missing_values_test = testing_data.isnull().sum()\\nprint(noo_missing_values_test)\\n\""
      ]
     },
     "execution_count": 31,
     "metadata": {},
     "output_type": "execute_result"
    }
   ],
   "source": [
    "'''testing_data['reviewText'].fillna('', inplace=True)\n",
    "x_test_tf = prepipe.transform(testing_data['reviewText'])\n",
    "noo_missing_values_test = testing_data.isnull().sum()\n",
    "print(noo_missing_values_test)\n",
    "'''"
   ]
  },
  {
   "cell_type": "code",
   "execution_count": 32,
   "id": "7d146d74",
   "metadata": {
    "execution": {
     "iopub.execute_input": "2023-09-21T13:25:33.003513Z",
     "iopub.status.busy": "2023-09-21T13:25:33.003066Z",
     "iopub.status.idle": "2023-09-21T13:25:33.009391Z",
     "shell.execute_reply": "2023-09-21T13:25:33.007687Z"
    },
    "papermill": {
     "duration": 0.030522,
     "end_time": "2023-09-21T13:25:33.012465",
     "exception": false,
     "start_time": "2023-09-21T13:25:32.981943",
     "status": "completed"
    },
    "tags": []
   },
   "outputs": [],
   "source": [
    "#prediction = best_mnb_model.predict(x_test_tf)"
   ]
  },
  {
   "cell_type": "markdown",
   "id": "af14e927",
   "metadata": {
    "papermill": {
     "duration": 0.018598,
     "end_time": "2023-09-21T13:25:33.050496",
     "exception": false,
     "start_time": "2023-09-21T13:25:33.031898",
     "status": "completed"
    },
    "tags": []
   },
   "source": [
    "# **SGDClassifier**"
   ]
  },
  {
   "cell_type": "markdown",
   "id": "b48eb2a8",
   "metadata": {
    "papermill": {
     "duration": 0.018768,
     "end_time": "2023-09-21T13:25:33.090552",
     "exception": false,
     "start_time": "2023-09-21T13:25:33.071784",
     "status": "completed"
    },
    "tags": []
   },
   "source": [
    "**Train**"
   ]
  },
  {
   "cell_type": "code",
   "execution_count": 33,
   "id": "2800bf05",
   "metadata": {
    "execution": {
     "iopub.execute_input": "2023-09-21T13:25:33.132263Z",
     "iopub.status.busy": "2023-09-21T13:25:33.131530Z",
     "iopub.status.idle": "2023-09-21T13:25:33.139389Z",
     "shell.execute_reply": "2023-09-21T13:25:33.138034Z"
    },
    "papermill": {
     "duration": 0.031914,
     "end_time": "2023-09-21T13:25:33.142249",
     "exception": false,
     "start_time": "2023-09-21T13:25:33.110335",
     "status": "completed"
    },
    "tags": []
   },
   "outputs": [
    {
     "data": {
      "text/plain": [
       "'from sklearn.linear_model import SGDClassifier\\nsgd = SGDClassifier(random_state=42)\\n'"
      ]
     },
     "execution_count": 33,
     "metadata": {},
     "output_type": "execute_result"
    }
   ],
   "source": [
    "'''from sklearn.linear_model import SGDClassifier\n",
    "sgd = SGDClassifier(random_state=42)\n",
    "'''"
   ]
  },
  {
   "cell_type": "code",
   "execution_count": 34,
   "id": "335efdab",
   "metadata": {
    "execution": {
     "iopub.execute_input": "2023-09-21T13:25:33.187843Z",
     "iopub.status.busy": "2023-09-21T13:25:33.187431Z",
     "iopub.status.idle": "2023-09-21T13:25:33.195496Z",
     "shell.execute_reply": "2023-09-21T13:25:33.193690Z"
    },
    "papermill": {
     "duration": 0.035474,
     "end_time": "2023-09-21T13:25:33.198601",
     "exception": false,
     "start_time": "2023-09-21T13:25:33.163127",
     "status": "completed"
    },
    "tags": []
   },
   "outputs": [
    {
     "data": {
      "text/plain": [
       "'p_grid = {\\n    \"loss\":[\"hinge\",\"log\"],\\n    \"penalty\": [\"l1\",\"l2\"],\\n    \"learning_rate\": [\"constant\",\"optimal\",\"invscaling\",\"adaptive\"]\\n}\\n'"
      ]
     },
     "execution_count": 34,
     "metadata": {},
     "output_type": "execute_result"
    }
   ],
   "source": [
    "#the hyperparameters to tune\n",
    "'''p_grid = {\n",
    "    \"loss\":[\"hinge\",\"log\"],\n",
    "    \"penalty\": [\"l1\",\"l2\"],\n",
    "    \"learning_rate\": [\"constant\",\"optimal\",\"invscaling\",\"adaptive\"]\n",
    "}\n",
    "'''"
   ]
  },
  {
   "cell_type": "code",
   "execution_count": 35,
   "id": "623e52b4",
   "metadata": {
    "execution": {
     "iopub.execute_input": "2023-09-21T13:25:33.241917Z",
     "iopub.status.busy": "2023-09-21T13:25:33.240672Z",
     "iopub.status.idle": "2023-09-21T13:25:33.249309Z",
     "shell.execute_reply": "2023-09-21T13:25:33.247897Z"
    },
    "papermill": {
     "duration": 0.033244,
     "end_time": "2023-09-21T13:25:33.251808",
     "exception": false,
     "start_time": "2023-09-21T13:25:33.218564",
     "status": "completed"
    },
    "tags": []
   },
   "outputs": [
    {
     "data": {
      "text/plain": [
       "\"from sklearn.model_selection import GridSearchCV\\n\\ngrid_search_cv = GridSearchCV(sgd, p_grid, cv=5, scoring='accuracy')  #Perform grid search with cross-validation\\ngrid_search_cv.fit(x_train, y_train)\\n\""
      ]
     },
     "execution_count": 35,
     "metadata": {},
     "output_type": "execute_result"
    }
   ],
   "source": [
    "'''from sklearn.model_selection import GridSearchCV\n",
    "\n",
    "grid_search_cv = GridSearchCV(sgd, p_grid, cv=5, scoring='accuracy')  #Perform grid search with cross-validation\n",
    "grid_search_cv.fit(x_train, y_train)\n",
    "'''"
   ]
  },
  {
   "cell_type": "code",
   "execution_count": 36,
   "id": "b8d553ae",
   "metadata": {
    "execution": {
     "iopub.execute_input": "2023-09-21T13:25:33.296296Z",
     "iopub.status.busy": "2023-09-21T13:25:33.295802Z",
     "iopub.status.idle": "2023-09-21T13:25:33.301310Z",
     "shell.execute_reply": "2023-09-21T13:25:33.299806Z"
    },
    "papermill": {
     "duration": 0.031528,
     "end_time": "2023-09-21T13:25:33.303967",
     "exception": false,
     "start_time": "2023-09-21T13:25:33.272439",
     "status": "completed"
    },
    "tags": []
   },
   "outputs": [],
   "source": [
    "#best hyperparameters from GCV\n",
    "#best_parameters = grid_search_cv.best_params_\n",
    "#print(best_parameters)"
   ]
  },
  {
   "cell_type": "code",
   "execution_count": 37,
   "id": "42430601",
   "metadata": {
    "execution": {
     "iopub.execute_input": "2023-09-21T13:25:33.346330Z",
     "iopub.status.busy": "2023-09-21T13:25:33.345858Z",
     "iopub.status.idle": "2023-09-21T13:25:33.351610Z",
     "shell.execute_reply": "2023-09-21T13:25:33.350251Z"
    },
    "papermill": {
     "duration": 0.030165,
     "end_time": "2023-09-21T13:25:33.354185",
     "exception": false,
     "start_time": "2023-09-21T13:25:33.324020",
     "status": "completed"
    },
    "tags": []
   },
   "outputs": [],
   "source": [
    "#best_sgd_model = SGDClassifier(**best_parameters).fit(x_train,y_train)"
   ]
  },
  {
   "cell_type": "code",
   "execution_count": 38,
   "id": "de905016",
   "metadata": {
    "execution": {
     "iopub.execute_input": "2023-09-21T13:25:33.396727Z",
     "iopub.status.busy": "2023-09-21T13:25:33.396293Z",
     "iopub.status.idle": "2023-09-21T13:25:33.404470Z",
     "shell.execute_reply": "2023-09-21T13:25:33.403186Z"
    },
    "papermill": {
     "duration": 0.032751,
     "end_time": "2023-09-21T13:25:33.407182",
     "exception": false,
     "start_time": "2023-09-21T13:25:33.374431",
     "status": "completed"
    },
    "tags": []
   },
   "outputs": [
    {
     "data": {
      "text/plain": [
       "'y_train_predict = best_sgd_model.predict(x_train)\\ny_test_predict = best_sgd_model.predict(x_test_values)\\n\\nfrom sklearn.metrics import accuracy_score\\naccurace_train = accuracy_score(y_train_predict, y_train)\\naccurace_test = accuracy_score(y_test_predict, y_test_values)\\nprint(f\"Accuracy on training: {accurace_train:.3f}\")\\nprint(f\"Accuracy on testing: {accurace_test:.3f}\")\\n'"
      ]
     },
     "execution_count": 38,
     "metadata": {},
     "output_type": "execute_result"
    }
   ],
   "source": [
    "# Predicting on the test set for hyperparameter tuning\n",
    "'''y_train_predict = best_sgd_model.predict(x_train)\n",
    "y_test_predict = best_sgd_model.predict(x_test_values)\n",
    "\n",
    "from sklearn.metrics import accuracy_score\n",
    "accurace_train = accuracy_score(y_train_predict, y_train)\n",
    "accurace_test = accuracy_score(y_test_predict, y_test_values)\n",
    "print(f\"Accuracy on training: {accurace_train:.3f}\")\n",
    "print(f\"Accuracy on testing: {accurace_test:.3f}\")\n",
    "'''"
   ]
  },
  {
   "cell_type": "markdown",
   "id": "5629e57c",
   "metadata": {
    "papermill": {
     "duration": 0.019806,
     "end_time": "2023-09-21T13:25:33.448146",
     "exception": false,
     "start_time": "2023-09-21T13:25:33.428340",
     "status": "completed"
    },
    "tags": []
   },
   "source": [
    "**Test**"
   ]
  },
  {
   "cell_type": "code",
   "execution_count": 39,
   "id": "32cb50de",
   "metadata": {
    "execution": {
     "iopub.execute_input": "2023-09-21T13:25:33.490454Z",
     "iopub.status.busy": "2023-09-21T13:25:33.489981Z",
     "iopub.status.idle": "2023-09-21T13:25:33.496864Z",
     "shell.execute_reply": "2023-09-21T13:25:33.495946Z"
    },
    "papermill": {
     "duration": 0.031262,
     "end_time": "2023-09-21T13:25:33.499440",
     "exception": false,
     "start_time": "2023-09-21T13:25:33.468178",
     "status": "completed"
    },
    "tags": []
   },
   "outputs": [
    {
     "data": {
      "text/plain": [
       "\"testing_data = pd.read_csv('/kaggle/input/sentiment-prediction-on-movie-reviews-term-break1/test.csv (1)/test.csv')\\nno_missing_values_test = testing_data.isnull().sum()\\nprint(no_missing_values_test)\\n\""
      ]
     },
     "execution_count": 39,
     "metadata": {},
     "output_type": "execute_result"
    }
   ],
   "source": [
    "'''testing_data = pd.read_csv('/kaggle/input/sentiment-prediction-on-movie-reviews-term-break1/test.csv (1)/test.csv')\n",
    "no_missing_values_test = testing_data.isnull().sum()\n",
    "print(no_missing_values_test)\n",
    "'''"
   ]
  },
  {
   "cell_type": "code",
   "execution_count": 40,
   "id": "308b21e6",
   "metadata": {
    "execution": {
     "iopub.execute_input": "2023-09-21T13:25:33.543227Z",
     "iopub.status.busy": "2023-09-21T13:25:33.542024Z",
     "iopub.status.idle": "2023-09-21T13:25:33.550743Z",
     "shell.execute_reply": "2023-09-21T13:25:33.549554Z"
    },
    "papermill": {
     "duration": 0.033429,
     "end_time": "2023-09-21T13:25:33.553349",
     "exception": false,
     "start_time": "2023-09-21T13:25:33.519920",
     "status": "completed"
    },
    "tags": []
   },
   "outputs": [
    {
     "data": {
      "text/plain": [
       "\"testing_data['reviewText'].fillna('', inplace=True)\\nx_test_tf = prepipe.transform(testing_data['reviewText'])\\nnoo_missing_values_test = testing_data.isnull().sum()\\nprint(noo_missing_values_test)\\n\""
      ]
     },
     "execution_count": 40,
     "metadata": {},
     "output_type": "execute_result"
    }
   ],
   "source": [
    "'''testing_data['reviewText'].fillna('', inplace=True)\n",
    "x_test_tf = prepipe.transform(testing_data['reviewText'])\n",
    "noo_missing_values_test = testing_data.isnull().sum()\n",
    "print(noo_missing_values_test)\n",
    "'''"
   ]
  },
  {
   "cell_type": "code",
   "execution_count": 41,
   "id": "5bbd4ae2",
   "metadata": {
    "execution": {
     "iopub.execute_input": "2023-09-21T13:25:33.595784Z",
     "iopub.status.busy": "2023-09-21T13:25:33.595372Z",
     "iopub.status.idle": "2023-09-21T13:25:33.601273Z",
     "shell.execute_reply": "2023-09-21T13:25:33.599820Z"
    },
    "papermill": {
     "duration": 0.030696,
     "end_time": "2023-09-21T13:25:33.604237",
     "exception": false,
     "start_time": "2023-09-21T13:25:33.573541",
     "status": "completed"
    },
    "tags": []
   },
   "outputs": [],
   "source": [
    "#prediction = best_sgd_model.predict(x_test_tf)"
   ]
  },
  {
   "cell_type": "markdown",
   "id": "ee7b57a8",
   "metadata": {
    "papermill": {
     "duration": 0.021059,
     "end_time": "2023-09-21T13:25:33.647675",
     "exception": false,
     "start_time": "2023-09-21T13:25:33.626616",
     "status": "completed"
    },
    "tags": []
   },
   "source": [
    "# **Sumbit**"
   ]
  },
  {
   "cell_type": "code",
   "execution_count": 42,
   "id": "9b2d21b4",
   "metadata": {
    "execution": {
     "iopub.execute_input": "2023-09-21T13:25:33.693204Z",
     "iopub.status.busy": "2023-09-21T13:25:33.691827Z",
     "iopub.status.idle": "2023-09-21T13:25:33.764802Z",
     "shell.execute_reply": "2023-09-21T13:25:33.763373Z"
    },
    "papermill": {
     "duration": 0.098554,
     "end_time": "2023-09-21T13:25:33.767897",
     "exception": false,
     "start_time": "2023-09-21T13:25:33.669343",
     "status": "completed"
    },
    "tags": []
   },
   "outputs": [],
   "source": [
    "submit = pd.DataFrame(columns=['id', 'sentiment'])\n",
    "submit['id'] = [i for i in range(len(prediction))]\n",
    "submit['sentiment'] = prediction"
   ]
  },
  {
   "cell_type": "code",
   "execution_count": 43,
   "id": "12073c12",
   "metadata": {
    "execution": {
     "iopub.execute_input": "2023-09-21T13:25:33.813697Z",
     "iopub.status.busy": "2023-09-21T13:25:33.812690Z",
     "iopub.status.idle": "2023-09-21T13:25:33.965904Z",
     "shell.execute_reply": "2023-09-21T13:25:33.964537Z"
    },
    "papermill": {
     "duration": 0.179449,
     "end_time": "2023-09-21T13:25:33.969011",
     "exception": false,
     "start_time": "2023-09-21T13:25:33.789562",
     "status": "completed"
    },
    "tags": []
   },
   "outputs": [],
   "source": [
    "submit.to_csv('submission.csv',index=False)"
   ]
  }
 ],
 "metadata": {
  "kernelspec": {
   "display_name": "Python 3",
   "language": "python",
   "name": "python3"
  },
  "language_info": {
   "codemirror_mode": {
    "name": "ipython",
    "version": 3
   },
   "file_extension": ".py",
   "mimetype": "text/x-python",
   "name": "python",
   "nbconvert_exporter": "python",
   "pygments_lexer": "ipython3",
   "version": "3.10.12"
  },
  "papermill": {
   "default_parameters": {},
   "duration": 159.935387,
   "end_time": "2023-09-21T13:25:34.914765",
   "environment_variables": {},
   "exception": null,
   "input_path": "__notebook__.ipynb",
   "output_path": "__notebook__.ipynb",
   "parameters": {},
   "start_time": "2023-09-21T13:22:54.979378",
   "version": "2.4.0"
  }
 },
 "nbformat": 4,
 "nbformat_minor": 5
}
